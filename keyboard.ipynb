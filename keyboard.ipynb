{
 "cells": [
  {
   "cell_type": "code",
   "execution_count": 191,
   "metadata": {},
   "outputs": [],
   "source": [
    "import cv2\n",
    "import numpy as np"
   ]
  },
  {
   "cell_type": "code",
   "execution_count": 192,
   "metadata": {},
   "outputs": [],
   "source": [
    "shape=(800,600)\n",
    "img=np.zeros((shape[0],shape[1],3), dtype=np.uint8)"
   ]
  },
  {
   "cell_type": "code",
   "execution_count": 193,
   "metadata": {},
   "outputs": [],
   "source": [
    "def add_white_keys(img,x0,y0,l,w,white):\n",
    "    len_of_white=int(l/7)\n",
    "    diff_in_white_keys=l-len_of_white*7\n",
    "    # print(\"diff_in_white_keys\",diff_in_white_keys)\n",
    "    for i in range(7):\n",
    "        white.append((x0+i*len_of_white,y0))\n",
    "        img=cv2.rectangle(img,(x0+i*len_of_white,y0),(x0+(i+1)*len_of_white,y0+w),(255,255,255),-1)\n",
    "        img=cv2.rectangle(img,(x0+i*len_of_white,y0),(x0+(i+1)*len_of_white,y0+w),(0,0,0),2)\n",
    "    return diff_in_white_keys"
   ]
  },
  {
   "cell_type": "code",
   "execution_count": 194,
   "metadata": {},
   "outputs": [],
   "source": [
    "def add_black_keys(img,x0,y0,l,w,black):\n",
    "    w=int((5*w)/8)\n",
    "    len_of_white=int(l/7)\n",
    "    half_len_of_black=int((5*len_of_white)/16)\n",
    "    temp=half_len_of_black\n",
    "    for i in range(1,7):\n",
    "        if i==3:\n",
    "            continue\n",
    "        black.append((x0+i*len_of_white-temp,y0))\n",
    "        img=cv2.rectangle(img,(x0+i*len_of_white-temp,y0),(x0+i*len_of_white+temp,y0+w),(0,0,0),-1)"
   ]
  },
  {
   "cell_type": "code",
   "execution_count": 195,
   "metadata": {},
   "outputs": [],
   "source": [
    "def add_minor_keys(img,x0,y0,l,w,white,black):\n",
    "    len_of_white=int(l/2)\n",
    "    for i in range(2):\n",
    "        white.append((x0+i*len_of_white,y0))\n",
    "        img=cv2.rectangle(img,(x0+i*len_of_white,y0),(x0+(i+1)*len_of_white,y0+w),(255,255,255),-1)\n",
    "        img=cv2.rectangle(img,(x0+i*len_of_white,y0),(x0+(i+1)*len_of_white,y0+w),(0,0,0),2)\n",
    "    w=int((5*w)/8)\n",
    "    len_of_black=(5*len_of_white)/8\n",
    "    temp=int(len_of_black/2)\n",
    "    black.append((x0+len_of_white-temp,y0))\n",
    "    img=cv2.rectangle(img,(x0+len_of_white-temp,y0),(x0+len_of_white+temp,y0+w),(0,0,0),-1)"
   ]
  },
  {
   "cell_type": "code",
   "execution_count": 196,
   "metadata": {},
   "outputs": [],
   "source": [
    "def make_keyboard(img,x0,y0,l,w,n):\n",
    "    l_minor=int((l*2)/(n*7+2))\n",
    "    l_major=l-l_minor\n",
    "    l_major=int(l_major/n)\n",
    "    diff_in_octaves=l-l_minor-l_major*n\n",
    "    # print(\"diff_in_octaves\",diff_in_octaves)\n",
    "    coord_of_white=[]\n",
    "    coord_of_black=[]\n",
    "    add_minor_keys(img,x0,y0,l_minor,w,coord_of_white,coord_of_black)\n",
    "    x0=x0+l_minor\n",
    "    diff=0\n",
    "    for i in range(n):\n",
    "        temp=add_white_keys(img,x0+i*l_major-diff,y0,l_major,w,coord_of_white)\n",
    "        add_black_keys(img,x0+i*l_major-diff,y0,l_major,w,coord_of_black)\n",
    "        diff=diff+temp\n",
    "    return coord_of_white,coord_of_black"
   ]
  },
  {
   "cell_type": "code",
   "execution_count": 202,
   "metadata": {},
   "outputs": [],
   "source": [
    "img=np.zeros((shape[0],shape[1],3), dtype=np.uint8)\n",
    "(x0,y0)=(100,500)\n",
    "l=400\n",
    "w=100\n",
    "n=2\n",
    "white,black=make_keyboard(img,x0,y0,l,w,n)\n",
    "len_of_white=int((l)/(n*7+2))\n",
    "width_of_white=w\n",
    "len_of_black=int((5*len_of_white)/16)*2\n",
    "width_of_black=int((5*w)/8)"
   ]
  },
  {
   "cell_type": "code",
   "execution_count": 216,
   "metadata": {},
   "outputs": [],
   "source": [
    "def check_key(x,y,white,black):\n",
    "    for i,key in enumerate(black):\n",
    "        if x>key[0] and x<key[0]+len_of_black and y>key[1] and y<key[1]+width_of_black:\n",
    "            print(\"black\",i)\n",
    "            print(x,y)\n",
    "            return \n",
    "    for i,key in enumerate(white):\n",
    "        if x>key[0] and x<key[0]+len_of_white and y>key[1] and y<key[1]+width_of_white:\n",
    "            print(\"white\",i)\n",
    "            return\n",
    "    return"
   ]
  },
  {
   "cell_type": "code",
   "execution_count": 217,
   "metadata": {},
   "outputs": [],
   "source": [
    "def call_back(event,x,y,flags,param):\n",
    "    # print(x,y)\n",
    "    if event == cv2.EVENT_RBUTTONDOWN:\n",
    "        check_key(x,y,white,black)"
   ]
  },
  {
   "cell_type": "code",
   "execution_count": 218,
   "metadata": {},
   "outputs": [
    {
     "name": "stdout",
     "output_type": "stream",
     "text": [
      "white 0\n",
      "white 0\n",
      "black 0\n",
      "122 516\n",
      "black 10\n",
      "474 546\n"
     ]
    }
   ],
   "source": [
    "cv2.namedWindow(\"Image\", cv2.WINDOW_NORMAL)\n",
    "cv2.imshow(\"Image\",img)\n",
    "cv2.resizeWindow('Image', 400, 400)\n",
    "cv2.setMouseCallback('Image',call_back)\n",
    "cv2.waitKey(0)\n",
    "cv2.destroyAllWindows()"
   ]
  },
  {
   "cell_type": "code",
   "execution_count": 210,
   "metadata": {},
   "outputs": [],
   "source": [
    "cv2.destroyAllWindows()"
   ]
  },
  {
   "cell_type": "code",
   "execution_count": null,
   "metadata": {},
   "outputs": [],
   "source": []
  }
 ],
 "metadata": {
  "kernelspec": {
   "display_name": "virpiano",
   "language": "python",
   "name": "virpiano"
  },
  "language_info": {
   "codemirror_mode": {
    "name": "ipython",
    "version": 3
   },
   "file_extension": ".py",
   "mimetype": "text/x-python",
   "name": "python",
   "nbconvert_exporter": "python",
   "pygments_lexer": "ipython3",
   "version": "3.11.5"
  }
 },
 "nbformat": 4,
 "nbformat_minor": 2
}
