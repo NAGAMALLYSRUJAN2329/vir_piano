{
 "cells": [
  {
   "cell_type": "code",
   "execution_count": 2,
   "metadata": {},
   "outputs": [],
   "source": [
    "import cv2\n",
    "import time\n",
    "import mediapipe as mp\n",
    "import numpy as np\n",
    "import matplotlib.pyplot as plt\n",
    "\n",
    "from keyboard import make_keyboard,convert_coordinates_to_lines,check_key\n",
    "from piano_sound import play_piano_sound"
   ]
  },
  {
   "cell_type": "code",
   "execution_count": 3,
   "metadata": {},
   "outputs": [],
   "source": [
    "mp_holistic = mp.solutions.holistic\n",
    "holistic_model = mp_holistic.Holistic(\n",
    "    min_detection_confidence=0.5,\n",
    "    min_tracking_confidence=0.5\n",
    ")\n",
    "mp_drawing = mp.solutions.drawing_utils\n",
    "mp_hands = mp.solutions.hands\n",
    "hands = mp_hands.Hands()\n",
    "connections=list(mp_hands.HAND_CONNECTIONS)"
   ]
  },
  {
   "cell_type": "code",
   "execution_count": 4,
   "metadata": {},
   "outputs": [],
   "source": [
    "def make_connections(x, y,img,color = (0, 0, 255),thickness=2):\n",
    "    for connection in connections:\n",
    "        start_point = (x[connection[0]], y[connection[0]])\n",
    "        end_point = (x[connection[1]], y[connection[1]])\n",
    "        img = cv2.line(img, start_point, end_point, color, thickness)\n",
    "    return img"
   ]
  },
  {
   "cell_type": "code",
   "execution_count": 5,
   "metadata": {},
   "outputs": [],
   "source": [
    "def modify(x,y,z,shape=(800,600)):\n",
    "    x=(np.array(x) * shape[0]).astype(int)\n",
    "    y=(np.array(y) * shape[1]).astype(int)\n",
    "    z=(np.array(z) * shape[0]).astype(int)\n",
    "    x=[abs(i) for i in x]\n",
    "    y=[abs(i) for i in y]\n",
    "    # z=[abs(i) for i in z]\n",
    "    return x,y,z"
   ]
  },
  {
   "cell_type": "code",
   "execution_count": 6,
   "metadata": {},
   "outputs": [],
   "source": [
    "# connections=list(mp_hands.HAND_CONNECTIONS)\n",
    "# shape=(800, 600)\n",
    "# cap = cv2.VideoCapture(0)\n",
    "# while True:\n",
    "#     ret,frame=cap.read()\n",
    "#     frame = cv2.resize(frame, shape)\n",
    "#     frame = cv2.flip(frame, 1)\n",
    "#     frame = cv2.cvtColor(frame, cv2.COLOR_BGR2RGB)\n",
    "#     results = hands.process(frame)\n",
    "#     img1= np.zeros((shape[0],shape[1],3), dtype=np.uint8)\n",
    "#     img2= np.zeros((shape[0],shape[1],3), dtype=np.uint8)\n",
    "#     img3= np.zeros((shape[0],shape[1],3), dtype=np.uint8)\n",
    "#     if results.multi_hand_landmarks:\n",
    "#         for hand_landmark in results.multi_hand_landmarks:\n",
    "#             x,y,z=[],[],[]\n",
    "#             mp.solutions.drawing_utils.draw_landmarks(frame, hand_landmark, connections)\n",
    "#             for landmark in hand_landmark.landmark:\n",
    "#                 x.append(landmark.x)\n",
    "#                 y.append(landmark.y)\n",
    "#                 z.append(landmark.z)\n",
    "#             x,y,z=modify(x,y,z)\n",
    "#             img1=make_connections(x,y,img1)\n",
    "#             img2=make_connections(x,x[0]+z,img2)\n",
    "#             img3=make_connections(y[0]+z,y,img3)\n",
    "#     cv2.imshow('Hand Detection', frame)\n",
    "#     cv2.imshow('Front View', img1)\n",
    "#     cv2.imshow('Top View', img2)\n",
    "#     cv2.imshow('Side View', img3)\n",
    "#     if cv2.waitKey(1) & 0xFF == 27:\n",
    "#         break\n",
    "# cap.release()\n",
    "# cv2.destroyAllWindows()"
   ]
  },
  {
   "cell_type": "code",
   "execution_count": 6,
   "metadata": {},
   "outputs": [],
   "source": [
    "def point_distance(pts,x,y):\n",
    "    for i,point in enumerate(pts):\n",
    "        distance = cv2.norm(np.array((x,y)), point[0], cv2.NORM_L2)\n",
    "        if(distance<20):\n",
    "            return i,True\n",
    "    return 4,False"
   ]
  },
  {
   "cell_type": "code",
   "execution_count": 7,
   "metadata": {},
   "outputs": [],
   "source": [
    "def check_configure_piano(configure_piano,x1,y1,x2,y2,x,y,l,w):\n",
    "    distance = cv2.norm(np.array((x1,y1)), np.array((x2,y2)), cv2.NORM_L2)\n",
    "    t=False\n",
    "    if x1>x and x1<x+l and y1>y and y1<y+w:\n",
    "        t=True\n",
    "    if distance<20 and t:\n",
    "        time.sleep(0.1)\n",
    "        return not configure_piano\n",
    "    return configure_piano"
   ]
  },
  {
   "cell_type": "code",
   "execution_count": 8,
   "metadata": {},
   "outputs": [],
   "source": [
    "def piano_config(frame,pts,configure_piano,x0,y0,x1,y1,button_x,button_y,button_l,button_w):\n",
    "    finger_distance = cv2.norm(np.array((x0,y0)), np.array((x1,y1)), cv2.NORM_L2)\n",
    "    configure_piano=check_configure_piano(configure_piano,x0,y0,x1,y1,button_x,button_y,button_l,button_w)\n",
    "    if configure_piano:\n",
    "        frame=cv2.rectangle(frame,(button_x,button_y),(button_x+button_l,button_y+button_w),(0,255,0),-1)\n",
    "        cv2.putText(frame, \"ON\", (button_x,button_y), cv2.FONT_HERSHEY_COMPLEX, 1, (0, 0, 0), 2)\n",
    "        idx,bool=point_distance(pts,x[8],y[8])\n",
    "        if finger_distance<20 and bool:\n",
    "            pts[idx][0]=[x[8],y[8]]\n",
    "    else:\n",
    "        frame=cv2.rectangle(frame,(button_x,button_y),(button_x+button_l,button_y+button_w),(0,0,255),-1)\n",
    "        cv2.putText(frame, \"OFF\", (button_x,button_y), cv2.FONT_HERSHEY_COMPLEX, 1, (0, 0, 0), 2)\n",
    "    # print(finger_distance)\n",
    "    return frame,pts,configure_piano"
   ]
  },
  {
   "cell_type": "code",
   "execution_count": 9,
   "metadata": {},
   "outputs": [],
   "source": [
    "def get_piano_notes(n):\n",
    "    white_piano_notes=[]\n",
    "    black_piano_notes=[]\n",
    "    white_piano_notes=['A0','B0','A1','B1','C1','D1','E1','F1','G1','A2','B2','C2','D2','E2','F2','G2']\n",
    "    black_piano_notes=['Bb0','Bb1','Db1','Eb1','Gb1','Ab1','Bb2','Db2','Eb2','Gb2','Ab2']\n",
    "    return white_piano_notes,black_piano_notes"
   ]
  },
  {
   "cell_type": "code",
   "execution_count": 10,
   "metadata": {},
   "outputs": [],
   "source": [
    "def change_color(img,another_pressed_keys,white,black):\n",
    "    white_keys=[white[i] for i in another_pressed_keys['White']]\n",
    "    black_keys=[black[i] for i in another_pressed_keys['Black']]\n",
    "    # print(white_keys,black_keys)\n",
    "    img=cv2.fillPoly(img,white_keys,(0,255,0))\n",
    "    # img=cv2.polylines(img,white,True,(255,0,255),2)\n",
    "    img=cv2.fillPoly(img,black,(0,0,0))\n",
    "    img=cv2.fillPoly(img,black_keys,(128,128,128))\n",
    "    return img"
   ]
  },
  {
   "cell_type": "code",
   "execution_count": 14,
   "metadata": {},
   "outputs": [],
   "source": [
    "def draw_circles(frame,coords,radius=4,color=(0,0,255),thickness=-1):\n",
    "    cv2.circle(frame,coords,radius,color,thickness)"
   ]
  },
  {
   "cell_type": "code",
   "execution_count": 15,
   "metadata": {},
   "outputs": [],
   "source": [
    "shape=(800, 600)\n",
    "n=2\n",
    "pts=np.array([[[100,350]],[[700,350]],[[700,550]],[[100,550]]])\n",
    "button_x,button_y,button_l,button_w=[600,75,50,50]\n",
    "\n",
    "last_pressed_keys=[]\n",
    "another_pressed_keys={\"White\":[],\"Black\":[]}\n",
    "fingertips=[4,8,12,16,20]\n",
    "white_piano_notes,black_piano_notes=get_piano_notes(2)\n",
    "previousTime=0\n",
    "configure_piano=False\n",
    "connections=list(mp_hands.HAND_CONNECTIONS)\n",
    "cap = cv2.VideoCapture(0)\n",
    "\n",
    "while True:\n",
    "    ret,frame=cap.read()\n",
    "    frame = cv2.resize(frame, shape)\n",
    "    frame = cv2.flip(frame, 1)\n",
    "    frame = cv2.cvtColor(frame, cv2.COLOR_BGR2RGB)\n",
    "    \n",
    "    results = hands.process(frame)\n",
    "\n",
    "    white,black=make_keyboard(frame,pts,n)\n",
    "    white_lines,black_lines=convert_coordinates_to_lines(white,black)\n",
    "    frame=change_color(frame,another_pressed_keys,white,black)\n",
    "    pressed_keys=[]\n",
    "    another_pressed_keys={\"White\":[],\"Black\":[]}\n",
    "    if results.multi_hand_landmarks:\n",
    "        for hand_landmark in results.multi_hand_landmarks:\n",
    "            x,y,z=[],[],[]\n",
    "            # mp.solutions.drawing_utils.draw_landmarks(frame, hand_landmark, connections)\n",
    "            for landmark in hand_landmark.landmark:\n",
    "                x.append(landmark.x),y.append(landmark.y),z.append(landmark.z)\n",
    "            x,y,z=modify(x,y,z)\n",
    "\n",
    "            for tip in fingertips:\n",
    "                draw_circles(frame,(x[tip],y[tip]))\n",
    "\n",
    "            frame,pts,configure_piano=piano_config(frame,pts,configure_piano,x[4],y[4],x[8],y[8],button_x,button_y,button_l,button_w)\n",
    "            if not configure_piano:\n",
    "                pressed_key,another_pressed_key=check_key(x,y,white_lines,black_lines,white_piano_notes,black_piano_notes)\n",
    "                pressed_keys+=pressed_key\n",
    "                another_pressed_keys['White']+=another_pressed_key['White']\n",
    "                another_pressed_keys['Black']+=another_pressed_key['Black']\n",
    "    else:\n",
    "        frame,pts,configure_piano=piano_config(frame,pts,configure_piano,20,20,50,50,button_x,button_y,button_l,button_w)\n",
    "\n",
    "    if len(pressed_keys)!=0 and pressed_keys!=last_pressed_keys:\n",
    "        play_piano_sound(pressed_keys)\n",
    "    last_pressed_keys=pressed_keys\n",
    "\n",
    "    currentTime = time.time()\n",
    "    fps = 1 / (currentTime - previousTime)\n",
    "    previousTime = currentTime\n",
    "    cv2.putText(frame, str(int(fps)) + \"FPS\", (10, 70), cv2.FONT_HERSHEY_COMPLEX, 1, (0, 0, 0), 2)\n",
    "    \n",
    "    cv2.namedWindow(\"Hand Detection\", cv2.WINDOW_NORMAL)\n",
    "    cv2.imshow('Hand Detection', frame)\n",
    "    \n",
    "    if cv2.waitKey(1) & 0xFF == 27:\n",
    "        break\n",
    "cap.release()\n",
    "cv2.destroyAllWindows()"
   ]
  },
  {
   "cell_type": "code",
   "execution_count": 26,
   "metadata": {},
   "outputs": [
    {
     "data": {
      "text/plain": [
       "['A0']"
      ]
     },
     "execution_count": 26,
     "metadata": {},
     "output_type": "execute_result"
    }
   ],
   "source": [
    "x[8],y[8]=500,370\n",
    "pressed_keys,another_pressed_keys=check_key(x,y,white_lines,black_lines,white_piano_notes,black_piano_notes)\n",
    "pressed_keys"
   ]
  },
  {
   "cell_type": "code",
   "execution_count": 28,
   "metadata": {},
   "outputs": [],
   "source": [
    "def point_and_line(m,b,x,y):\n",
    "    y_=x*m+b\n",
    "    if y<=y_:\n",
    "        return True\n",
    "    else:\n",
    "        return False #Down"
   ]
  },
  {
   "cell_type": "code",
   "execution_count": 31,
   "metadata": {},
   "outputs": [
    {
     "data": {
      "text/plain": [
       "array([[[ 0.00000000e+00,  3.50000000e+02]],\n",
       "\n",
       "       [[-4.87500000e+01,  7.02875000e+03]],\n",
       "\n",
       "       [[-1.51515152e-01,  5.65151515e+02]],\n",
       "\n",
       "       [[ 1.00000000e+04, -9.99450000e+05]]])"
      ]
     },
     "execution_count": 31,
     "metadata": {},
     "output_type": "execute_result"
    }
   ],
   "source": [
    "white_lines[0]"
   ]
  },
  {
   "cell_type": "code",
   "execution_count": 29,
   "metadata": {},
   "outputs": [
    {
     "data": {
      "text/plain": [
       "True"
      ]
     },
     "execution_count": 29,
     "metadata": {},
     "output_type": "execute_result"
    }
   ],
   "source": [
    "[[[m0,b0]],[[m1,b1]],[[m2,b2]],[[m3,b3]]]=white_lines[0]\n",
    "x1,y1=500,370\n",
    "point_and_line(m0,b0,x1,y1) ^ point_and_line(m2,b2,x1,y1) and point_and_line(m1,b1,x1,y1) ^ point_and_line(m3,b3,x1,y1)"
   ]
  },
  {
   "cell_type": "code",
   "execution_count": 34,
   "metadata": {},
   "outputs": [
    {
     "data": {
      "text/plain": [
       "True"
      ]
     },
     "execution_count": 34,
     "metadata": {},
     "output_type": "execute_result"
    }
   ],
   "source": [
    "point_and_line(m3,b3,x1,y1)"
   ]
  },
  {
   "cell_type": "code",
   "execution_count": null,
   "metadata": {},
   "outputs": [],
   "source": []
  }
 ],
 "metadata": {
  "kernelspec": {
   "display_name": "virpiano",
   "language": "python",
   "name": "virpiano"
  },
  "language_info": {
   "codemirror_mode": {
    "name": "ipython",
    "version": 3
   },
   "file_extension": ".py",
   "mimetype": "text/x-python",
   "name": "python",
   "nbconvert_exporter": "python",
   "pygments_lexer": "ipython3",
   "version": "3.11.5"
  }
 },
 "nbformat": 4,
 "nbformat_minor": 2
}
