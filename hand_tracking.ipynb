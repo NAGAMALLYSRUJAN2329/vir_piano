{
 "cells": [
  {
   "cell_type": "code",
   "execution_count": 1,
   "metadata": {},
   "outputs": [],
   "source": [
    "import cv2\n",
    "import time\n",
    "import mediapipe as mp\n",
    "import numpy as np\n",
    "import matplotlib.pyplot as plt"
   ]
  },
  {
   "cell_type": "code",
   "execution_count": 2,
   "metadata": {},
   "outputs": [],
   "source": [
    "mp_holistic = mp.solutions.holistic\n",
    "holistic_model = mp_holistic.Holistic(\n",
    "    min_detection_confidence=0.5,\n",
    "    min_tracking_confidence=0.5\n",
    ")\n",
    "mp_drawing = mp.solutions.drawing_utils\n",
    "mp_hands = mp.solutions.hands\n",
    "hands = mp_hands.Hands()\n",
    "connections=list(mp_hands.HAND_CONNECTIONS)"
   ]
  },
  {
   "cell_type": "code",
   "execution_count": 3,
   "metadata": {},
   "outputs": [],
   "source": [
    "cap=cv2.VideoCapture(0)\n",
    "while True:\n",
    "    ret,frame1=cap.read()\n",
    "    break\n",
    "cap.release()\n",
    "cv2.destroyAllWindows()\n",
    "frame1=cv2.cvtColor(frame1, cv2.COLOR_BGR2RGB)\n",
    "results = hands.process(frame1)\n",
    "# mp.solutions.drawing_utils.draw_landmarks(frame, results.multi_hand_landmarks[0], mp_hands.HAND_CONNECTIONS)\n",
    "# mp.solutions.drawing_utils.draw_landmarks(frame, results.multi_hand_landmarks[1], mp_hands.HAND_CONNECTIONS)"
   ]
  },
  {
   "cell_type": "code",
   "execution_count": 200,
   "metadata": {},
   "outputs": [],
   "source": [
    "x=[i.x for i in results.multi_hand_landmarks[0].landmark]\n",
    "y=[i.y for i in results.multi_hand_landmarks[0].landmark]\n",
    "z=[i.z for i in results.multi_hand_landmarks[0].landmark]\n",
    "z=[abs(i) for i in z]\n",
    "y=[abs(i) for i in y]\n",
    "shape=frame1.shape\n",
    "x = (np.array(x) * shape[0]).astype(int)\n",
    "y = (np.array(y) * shape[1]).astype(int)\n",
    "z = (np.array(z) * shape[0]).astype(int)\n",
    "img=np.zeros((shape[0],shape[1],3), dtype=np.uint8)\n",
    "plt.imshow(frame1)"
   ]
  },
  {
   "cell_type": "code",
   "execution_count": 4,
   "metadata": {},
   "outputs": [],
   "source": [
    "def plotm(x,y):\n",
    "    for i in range(len(connections)):\n",
    "        plt.plot([x[connections[i][0]],x[connections[i][1]]], [y[connections[i][0]],y[connections[i][1]]], 'ro-')\n",
    "    plt.show()"
   ]
  },
  {
   "cell_type": "code",
   "execution_count": 5,
   "metadata": {},
   "outputs": [],
   "source": [
    "def make_connections(x, y,img,color = (0, 0, 255),thickness=2):\n",
    "    for connection in connections:\n",
    "        start_point = (x[connection[0]], y[connection[0]])\n",
    "        end_point = (x[connection[1]], y[connection[1]])\n",
    "        img = cv2.line(img, start_point, end_point, color, thickness)\n",
    "    return img"
   ]
  },
  {
   "cell_type": "code",
   "execution_count": 6,
   "metadata": {},
   "outputs": [],
   "source": [
    "def show_image(x,y,img):\n",
    "    img=make_connections(x,y,img)\n",
    "    cv2.imshow(\"Connections\", img)\n",
    "    cv2.waitKey(0)\n",
    "    cv2.destroyAllWindows()"
   ]
  },
  {
   "cell_type": "code",
   "execution_count": 7,
   "metadata": {},
   "outputs": [],
   "source": [
    "def modify(x,y,z,shape=(800,600)):\n",
    "    x=(np.array(x) * shape[0]).astype(int)\n",
    "    y=(np.array(y) * shape[1]).astype(int)\n",
    "    z=(np.array(z) * shape[0]).astype(int)\n",
    "    x=[abs(i) for i in x]\n",
    "    y=[abs(i) for i in y]\n",
    "    z=[abs(i) for i in z]\n",
    "    return x,y,z"
   ]
  },
  {
   "cell_type": "code",
   "execution_count": 8,
   "metadata": {},
   "outputs": [],
   "source": [
    "connections=list(mp_hands.HAND_CONNECTIONS)\n",
    "shape=(800, 600)\n",
    "cap = cv2.VideoCapture(0)\n",
    "while True:\n",
    "    ret,frame=cap.read()\n",
    "    frame = cv2.resize(frame, shape)\n",
    "    frame = cv2.flip(frame, 1)\n",
    "    frame = cv2.cvtColor(frame, cv2.COLOR_BGR2RGB)\n",
    "    results = hands.process(frame)\n",
    "    img1= np.zeros((shape[0],shape[1],3), dtype=np.uint8)\n",
    "    img2= np.zeros((shape[0],shape[1],3), dtype=np.uint8)\n",
    "    img3= np.zeros((shape[0],shape[1],3), dtype=np.uint8)\n",
    "    if results.multi_hand_landmarks:\n",
    "        for hand_landmark in results.multi_hand_landmarks:\n",
    "            x=[]\n",
    "            y=[]\n",
    "            z=[]\n",
    "            mp.solutions.drawing_utils.draw_landmarks(frame, hand_landmark, connections)\n",
    "            for landmark in hand_landmark.landmark:\n",
    "                x.append(landmark.x)\n",
    "                y.append(landmark.y)\n",
    "                z.append(landmark.z)\n",
    "            x,y,z=modify(x,y,z)\n",
    "            img1=make_connections(x,y,img1)\n",
    "            img2=make_connections(x,z,img2)\n",
    "            img3=make_connections(z,y,img3)\n",
    "    cv2.imshow('Hand Detection', frame)\n",
    "    cv2.imshow('Front View', img1)\n",
    "    cv2.imshow('Top View', img2)\n",
    "    cv2.imshow('Side View', img3)\n",
    "    if cv2.waitKey(1) & 0xFF == 27:  # Press 'Esc' to exit\n",
    "        break\n",
    "cap.release()\n",
    "cv2.destroyAllWindows()"
   ]
  },
  {
   "cell_type": "code",
   "execution_count": null,
   "metadata": {},
   "outputs": [],
   "source": [
    "# mp.solutions.drawing_utils.draw_landmarks(frame1, results.multi_hand_landmarks[0], mp_hands.HAND_CONNECTIONS)\n",
    "plt.imshow(frame1)"
   ]
  },
  {
   "cell_type": "code",
   "execution_count": 230,
   "metadata": {},
   "outputs": [],
   "source": [
    "x=[i.x for i in results.multi_hand_landmarks[0].landmark]\n",
    "y=[i.y for i in results.multi_hand_landmarks[0].landmark]\n",
    "z=[i.z for i in results.multi_hand_landmarks[0].landmark]\n",
    "\n",
    "x_w=[i.x for i in results.multi_hand_world_landmarks[0].landmark]\n",
    "y_w=[i.y for i in results.multi_hand_world_landmarks[0].landmark]\n",
    "z_W=[i.z for i in results.multi_hand_world_landmarks[0].landmark]"
   ]
  },
  {
   "cell_type": "code",
   "execution_count": null,
   "metadata": {},
   "outputs": [],
   "source": []
  }
 ],
 "metadata": {
  "kernelspec": {
   "display_name": "virpiano",
   "language": "python",
   "name": "virpiano"
  },
  "language_info": {
   "codemirror_mode": {
    "name": "ipython",
    "version": 3
   },
   "file_extension": ".py",
   "mimetype": "text/x-python",
   "name": "python",
   "nbconvert_exporter": "python",
   "pygments_lexer": "ipython3",
   "version": "3.11.5"
  }
 },
 "nbformat": 4,
 "nbformat_minor": 2
}
