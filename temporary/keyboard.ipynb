{
 "cells": [
  {
   "cell_type": "code",
   "execution_count": 1,
   "metadata": {},
   "outputs": [],
   "source": [
    "import cv2\n",
    "import numpy as np"
   ]
  },
  {
   "cell_type": "code",
   "execution_count": 2,
   "metadata": {},
   "outputs": [],
   "source": [
    "def section_formula(x1,y1,x2,y2,m,n):\n",
    "    x=(m*x2+n*x1)/(m+n)\n",
    "    y=(m*y2+n*y1)/(m+n)\n",
    "    return int(x),int(y)"
   ]
  },
  {
   "cell_type": "code",
   "execution_count": 3,
   "metadata": {},
   "outputs": [],
   "source": [
    "def add_octaves(pts,list,n):\n",
    "    [[[x0,y0]],[[x1,y1]],[[x2,y2]],[[x3,y3]]]=pts\n",
    "    for i in range(n):\n",
    "        temp=np.zeros((4,1,2), dtype=np.int32)\n",
    "        x,y=section_formula(x0,y0,x1,y1,i,n-i)\n",
    "        temp[0][0]=[x,y]\n",
    "        x,y=section_formula(x0,y0,x1,y1,i+1,n-i-1)\n",
    "        temp[1][0]=[x,y]\n",
    "        x,y=section_formula(x3,y3,x2,y2,i+1,n-i-1)\n",
    "        temp[2][0]=[x,y]\n",
    "        x,y=section_formula(x3,y3,x2,y2,i,n-i)\n",
    "        temp[3][0]=[x,y]\n",
    "        list.append(temp)"
   ]
  },
  {
   "cell_type": "code",
   "execution_count": 4,
   "metadata": {},
   "outputs": [],
   "source": [
    "def add_white_keys(pts,white):\n",
    "    [[[x0,y0]],[[x1,y1]],[[x2,y2]],[[x3,y3]]]=pts\n",
    "    for i in range(7):\n",
    "        temp=np.zeros((4,1,2), dtype=np.int32)\n",
    "        x,y=section_formula(x0,y0,x1,y1,i,7-i)\n",
    "        temp[0][0]=[x,y]\n",
    "        x,y=section_formula(x0,y0,x1,y1,i+1,7-i-1)\n",
    "        temp[1][0]=[x,y]\n",
    "        x,y=section_formula(x3,y3,x2,y2,i+1,7-i-1)\n",
    "        temp[2][0]=[x,y]\n",
    "        x,y=section_formula(x3,y3,x2,y2,i,7-i)\n",
    "        temp[3][0]=[x,y]\n",
    "        white.append(temp)"
   ]
  },
  {
   "cell_type": "code",
   "execution_count": 5,
   "metadata": {},
   "outputs": [],
   "source": [
    "def add_black_keys(pts,black):\n",
    "    [[[x0,y0]],[[x1,y1]],[[x2,y2]],[[x3,y3]]]=pts\n",
    "    last_x_,last_y_=(x3,y3)\n",
    "    last_x_up,last_y_up=(x0,y0)\n",
    "    for i in range(1,7):\n",
    "        x_,y_=section_formula(x3,y3,x2,y2,i,7-i)\n",
    "        x_up,y_up=section_formula(x0,y0,x1,y1,i,7-i)\n",
    "        if i==3:\n",
    "            last_x_up,last_y_up=x_up,y_up\n",
    "            last_x_,last_y_=x_,y_\n",
    "            continue\n",
    "        temp=np.zeros((4,1,2), dtype=np.int32)\n",
    "        xy_coords=np.zeros((4,1,2), dtype=np.int32)\n",
    "        x,y=section_formula(last_x_,last_y_,x_,y_,11,5)\n",
    "        temp[3][0]=[x,y]\n",
    "        x,y=section_formula(last_x_up,last_y_up,x_up,y_up,11,5)\n",
    "        xy_coords[0][0]=[x,y]\n",
    "        x,y=section_formula(last_x_,last_y_,x_,y_,21,-5)\n",
    "        temp[2][0]=[x,y]\n",
    "        x,y=section_formula(last_x_up,last_y_up,x_up,y_up,21,-5)\n",
    "        xy_coords[1][0]=[x,y]\n",
    "        x,y=section_formula(temp[2][0][0],temp[2][0][1],xy_coords[1][0][0],xy_coords[1][0][1],5,3)\n",
    "        temp[1][0]=[x,y]\n",
    "        x,y=section_formula(temp[3][0][0],temp[3][0][1],xy_coords[0][0][0],xy_coords[0][0][1],5,3)\n",
    "        temp[0][0]=[x,y]\n",
    "        last_x_up,last_y_up=x_up,y_up\n",
    "        last_x_,last_y_=x_,y_\n",
    "        black.append(temp)"
   ]
  },
  {
   "cell_type": "code",
   "execution_count": 6,
   "metadata": {},
   "outputs": [],
   "source": [
    "def add_minor_keys(pts,white,black):\n",
    "    [[[x0,y0]],[[x1,y1]],[[x2,y2]],[[x3,y3]]]=pts\n",
    "    for i in range(2):\n",
    "        temp=np.zeros((4,1,2), dtype=np.int32)\n",
    "        x,y=section_formula(x0,y0,x1,y1,i,2-i)\n",
    "        temp[0][0]=[x,y]\n",
    "        x,y=section_formula(x0,y0,x1,y1,i+1,2-i-1)\n",
    "        temp[1][0]=[x,y]\n",
    "        x,y=section_formula(x3,y3,x2,y2,i+1,2-i-1)\n",
    "        temp[2][0]=[x,y]\n",
    "        x,y=section_formula(x3,y3,x2,y2,i,2-i)\n",
    "        temp[3][0]=[x,y]\n",
    "        white.append(temp)\n",
    "    temp=np.zeros((4,1,2), dtype=np.int32)\n",
    "    xy_coords=np.zeros((4,1,2), dtype=np.int32)\n",
    "    x_,y_=section_formula(x3,y3,x2,y2,1,1)\n",
    "    x_up,y_up=section_formula(x0,y0,x1,y1,1,1)\n",
    "    x,y=section_formula(x3,y3,x_,y_,11,5)\n",
    "    temp[3][0]=[x,y]\n",
    "    x,y=section_formula(x0,y0,x_up,y_up,11,5)\n",
    "    xy_coords[0][0]=[x,y]\n",
    "    x,y=section_formula(x3,y3,x_,y_,21,-5)\n",
    "    temp[2][0]=[x,y]\n",
    "    x,y=section_formula(x0,y0,x_up,y_up,21,-5)\n",
    "    xy_coords[1][0]=[x,y]\n",
    "    x,y=section_formula(temp[2][0][0],temp[2][0][1],xy_coords[1][0][0],xy_coords[1][0][1],5,3)\n",
    "    temp[1][0]=[x,y]\n",
    "    x,y=section_formula(temp[3][0][0],temp[3][0][1],xy_coords[0][0][0],xy_coords[0][0][1],5,3)\n",
    "    temp[0][0]=[x,y]\n",
    "    black.append(temp)"
   ]
  },
  {
   "cell_type": "code",
   "execution_count": 7,
   "metadata": {},
   "outputs": [],
   "source": [
    "def get_keyboard_keys(pts,n):\n",
    "    [[[x0,y0]],[[x1,y1]],[[x2,y2]],[[x3,y3]]]=pts\n",
    "    white,black=[],[]\n",
    "    x_up,y_up=section_formula(x0,y0,x1,y1,2,7*n)\n",
    "    x_,y_=section_formula(x3,y3,x2,y2,2,7*n)\n",
    "    pts=np.array([[[x0,y0]],[[x_up,y_up]],[[x_,y_]],[[x3,y3]]])\n",
    "    add_minor_keys(pts,white,black)\n",
    "    list_of_octaves=[]\n",
    "    pts=np.array([[[x_up,y_up]],[[x1,y1]],[[x2,y2]],[[x_,y_]]])\n",
    "    add_octaves(pts,list_of_octaves,n)\n",
    "    for i in range(n):\n",
    "        add_white_keys(list_of_octaves[i],white)\n",
    "        add_black_keys(list_of_octaves[i],black)\n",
    "    return white,black"
   ]
  },
  {
   "cell_type": "code",
   "execution_count": 8,
   "metadata": {},
   "outputs": [],
   "source": [
    "def make_keyboard(img,pts,n):\n",
    "    white,black=get_keyboard_keys(pts,n)\n",
    "    img=cv2.fillPoly(img,white,(255,255,255))\n",
    "    img=cv2.polylines(img,white,True,(255,0,255),2)\n",
    "    img=cv2.fillPoly(img,black,(0,0,0))\n",
    "    return white,black"
   ]
  },
  {
   "cell_type": "code",
   "execution_count": 9,
   "metadata": {},
   "outputs": [],
   "source": [
    "def get_slope_and_intercept(x0,y0,x1,y1):\n",
    "    m=(y1-y0)/(x1-x0)\n",
    "    b=y1-m*x1\n",
    "    return m,b"
   ]
  },
  {
   "cell_type": "code",
   "execution_count": 33,
   "metadata": {},
   "outputs": [],
   "source": [
    "def convert_coordinates_to_lines(white,black):\n",
    "    white_lines,black_lines=[],[]\n",
    "    for pts in white:\n",
    "        temp=np.zeros((4,1,2))\n",
    "        m,b=get_slope_and_intercept(pts[0][0][0],pts[0][0][1],pts[1][0][0],pts[1][0][1])\n",
    "        temp[0][0]=[m,b]\n",
    "        m,b=get_slope_and_intercept(pts[2][0][0],pts[2][0][1],pts[1][0][0],pts[1][0][1])\n",
    "        temp[1][0]=[m,b]\n",
    "        m,b=get_slope_and_intercept(pts[2][0][0],pts[2][0][1],pts[3][0][0],pts[3][0][1])\n",
    "        temp[2][0]=[m,b]\n",
    "        m,b=get_slope_and_intercept(pts[0][0][0],pts[0][0][1],pts[3][0][0],pts[3][0][1])\n",
    "        temp[3][0]=[m,b]\n",
    "        white_lines.append(temp)\n",
    "    for pts in black:\n",
    "        temp=np.zeros((4,1,2))\n",
    "        m,b=get_slope_and_intercept(pts[0][0][0],pts[0][0][1],pts[1][0][0],pts[1][0][1])\n",
    "        temp[0][0]=[m,b]\n",
    "        m,b=get_slope_and_intercept(pts[2][0][0],pts[2][0][1],pts[1][0][0],pts[1][0][1])\n",
    "        temp[1][0]=[m,b]\n",
    "        m,b=get_slope_and_intercept(pts[2][0][0],pts[2][0][1],pts[3][0][0],pts[3][0][1])\n",
    "        temp[2][0]=[m,b]\n",
    "        m,b=get_slope_and_intercept(pts[0][0][0],pts[0][0][1],pts[3][0][0],pts[3][0][1])\n",
    "        temp[3][0]=[m,b]\n",
    "        black_lines.append(temp)\n",
    "    \n",
    "    return white_lines,black_lines"
   ]
  },
  {
   "cell_type": "code",
   "execution_count": 11,
   "metadata": {},
   "outputs": [],
   "source": [
    "def point_and_line(m,b,x,y):\n",
    "    y_=x*m+b\n",
    "    if y<=y_:\n",
    "        return True\n",
    "    else:\n",
    "        return False"
   ]
  },
  {
   "cell_type": "code",
   "execution_count": 34,
   "metadata": {},
   "outputs": [],
   "source": [
    "shape=(800,600)\n",
    "img=np.zeros((shape[0],shape[1],3), dtype=np.uint8)\n",
    "(x0,y0)=(200,400)\n",
    "(x1,y1)=(400,400)\n",
    "(x2,y2)=(500,500)\n",
    "(x3,y3)=(100,500)\n",
    "# (x0,y0)=(132,341)\n",
    "# (x1,y1)=(409,288)\n",
    "# (x2,y2)=(508,431)\n",
    "# (x3,y3)=(114,543)\n",
    "n=3\n",
    "pts=np.array([[[x0,y0]],[[x1,y1]],[[x2,y2]],[[x3,y3]]])\n",
    "white,black=make_keyboard(img,pts,n)\n",
    "white_lines,black_lines=convert_coordinates_to_lines(white,black)"
   ]
  },
  {
   "cell_type": "code",
   "execution_count": 26,
   "metadata": {},
   "outputs": [],
   "source": [
    "def check_key(x,y,white,black):\n",
    "    for i,key in enumerate(black):\n",
    "        [[[m0,b0]],[[m1,b1]],[[m2,b2]],[[m3,b3]]]=key\n",
    "        if point_and_line(m0,b0,x,y) ^ point_and_line(m2,b2,x,y) and point_and_line(m1,b1,x,y) ^ point_and_line(m3,b3,x,y):\n",
    "            print(\"Black \",i)\n",
    "            return\n",
    "    for i,key in enumerate(white):\n",
    "        [[[m0,b0]],[[m1,b1]],[[m2,b2]],[[m3,b3]]]=key\n",
    "        if point_and_line(m0,b0,x,y) ^ point_and_line(m2,b2,x,y) and point_and_line(m1,b1,x,y) ^ point_and_line(m3,b3,x,y):\n",
    "            print(\"White \",i)\n",
    "            return\n",
    "    return"
   ]
  },
  {
   "cell_type": "code",
   "execution_count": 38,
   "metadata": {},
   "outputs": [],
   "source": [
    "def call_back(event,x,y,flags,param):\n",
    "    if event == cv2.EVENT_RBUTTONDOWN:\n",
    "        # print(x,y)\n",
    "        check_key(x,y,white_lines,black_lines)"
   ]
  },
  {
   "cell_type": "code",
   "execution_count": null,
   "metadata": {},
   "outputs": [],
   "source": [
    "cv2.namedWindow(\"Image\", cv2.WINDOW_NORMAL)\n",
    "cv2.imshow(\"Image\",img)\n",
    "# cv2.resizeWindow('Image', 400, 400)\n",
    "cv2.setMouseCallback('Image',call_back)\n",
    "cv2.waitKey(0)\n",
    "cv2.destroyAllWindows()"
   ]
  },
  {
   "cell_type": "code",
   "execution_count": null,
   "metadata": {},
   "outputs": [],
   "source": []
  }
 ],
 "metadata": {
  "kernelspec": {
   "display_name": "virpiano",
   "language": "python",
   "name": "virpiano"
  },
  "language_info": {
   "codemirror_mode": {
    "name": "ipython",
    "version": 3
   },
   "file_extension": ".py",
   "mimetype": "text/x-python",
   "name": "python",
   "nbconvert_exporter": "python",
   "pygments_lexer": "ipython3",
   "version": "3.11.5"
  }
 },
 "nbformat": 4,
 "nbformat_minor": 2
}
